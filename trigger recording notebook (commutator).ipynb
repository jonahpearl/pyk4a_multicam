{
 "cells": [
  {
   "cell_type": "code",
   "execution_count": 1,
   "id": "119e71fc",
   "metadata": {},
   "outputs": [],
   "source": [
    "import numpy as np\n",
    "import serial\n",
    "import datetime as dt\n",
    "import os\n",
    "import time\n",
    "import matplotlib.pyplot as plt\n",
    "import matplotlib\n",
    "from multiprocessing import Process, Queue\n",
    "import glob\n",
    "import pandas as pd\n",
    "import warnings\n",
    "\n",
    "# imports from this module\n",
    "from top_bottom_triggered.fast_animate import *\n",
    "from top_bottom_triggered.commutator_utils import *"
   ]
  },
  {
   "cell_type": "markdown",
   "id": "01c406fd",
   "metadata": {},
   "source": [
    "## Setup"
   ]
  },
  {
   "cell_type": "code",
   "execution_count": 2,
   "id": "e874b526",
   "metadata": {},
   "outputs": [],
   "source": [
    "port = 'COM4'"
   ]
  },
  {
   "cell_type": "code",
   "execution_count": 3,
   "id": "51c3ed78",
   "metadata": {
    "scrolled": true
   },
   "outputs": [
    {
     "name": "stdout",
     "output_type": "stream",
     "text": [
      "['gmou81', 'gmou78', 'gmou77', 'gmou83']\n"
     ]
    }
   ],
   "source": [
    "# generate a random order for mice to run, based on today's date \n",
    "# (will be the same even, eg, 1 hour later, as long as date is the same)\n",
    "\n",
    "mice_to_run = ['gmou77', 'gmou78', 'gmou81', 'gmou83']\n",
    "\n",
    "today = dt.datetime.now().date()\n",
    "date_hash = int(dt.datetime(today.year, today.month, today.day).timestamp())\n",
    "np.random.seed(date_hash)\n",
    "np.random.shuffle(mice_to_run)\n",
    "print(mice_to_run)"
   ]
  },
  {
   "cell_type": "code",
   "execution_count": 4,
   "id": "12bda8b9",
   "metadata": {
    "scrolled": true
   },
   "outputs": [
    {
     "name": "stdout",
     "output_type": "stream",
     "text": [
      "Path D:\\Jonah\\trigger_testing\\test\\20230425_test exists!\n"
     ]
    }
   ],
   "source": [
    "# inputs\n",
    "subject = 'test'\n",
    "date = dt.datetime.now().strftime('%Y%m%d')\n",
    "time_in_minutes = 10 # go slightly longer than mkv to ensure complete overlap\n",
    "base_path = R'D:\\Jonah\\trigger_testing'\n",
    "# base_path = R'E:\\Jonah\\CeAMouse'\n",
    "suffix = ''\n",
    "\n",
    "path = os.path.join(base_path, f'{subject}\\\\{date}_{subject}')\n",
    "# path = path.format(subject=subject, date=date)\n",
    "n_samples = 4000  # how many thermistor samples to show\n",
    "show_opto = False  # only set to true if there is a \"stim\" col in ino data\n",
    "\n",
    "if not os.path.exists(path):\n",
    "    os.makedirs(path)\n",
    "    print(f'Created {path}')\n",
    "else:\n",
    "    print(f'Path {path} exists!')"
   ]
  },
  {
   "cell_type": "code",
   "execution_count": 5,
   "id": "6553eff3",
   "metadata": {
    "scrolled": true
   },
   "outputs": [
    {
     "name": "stdout",
     "output_type": "stream",
     "text": [
      "12.6250,-20.8125,-100.1250,-0.06,-0.12,0.01,0,3.30\n",
      "Data has 8 elements\n"
     ]
    }
   ],
   "source": [
    "# test serial port and check dac value\n",
    "with serial.Serial(port, baudrate=115200, timeout=0.1) as ino:\n",
    "    line = ino.readline().decode('utf-8').strip('\\r\\n')\n",
    "    print(line)\n",
    "    print(f'Data has {len(line.split(\",\"))} elements')"
   ]
  },
  {
   "cell_type": "code",
   "execution_count": 65,
   "id": "c83b2d7b",
   "metadata": {},
   "outputs": [],
   "source": [
    "# separates data collection cell from setup cells for safety"
   ]
  },
  {
   "cell_type": "code",
   "execution_count": null,
   "id": "1fb74b43",
   "metadata": {},
   "outputs": [],
   "source": []
  },
  {
   "cell_type": "code",
   "execution_count": null,
   "id": "1e22f74e",
   "metadata": {},
   "outputs": [],
   "source": []
  },
  {
   "cell_type": "markdown",
   "id": "ae50e897",
   "metadata": {},
   "source": [
    "## Run the experiment!"
   ]
  },
  {
   "cell_type": "markdown",
   "id": "c88c2f0c",
   "metadata": {},
   "source": [
    "TODO: \n",
    "* verify the "
   ]
  },
  {
   "cell_type": "code",
   "execution_count": null,
   "id": "190f0735",
   "metadata": {
    "scrolled": false
   },
   "outputs": [
    {
     "name": "stdout",
     "output_type": "stream",
     "text": [
      "time,led1,led2,led3,led4,yaw,roll,pitch,acc_x,acc_y,acc_z,therm,dac\n",
      "sending start msg to sync device\n",
      "msg sent\n",
      "start sync pulses\r\n",
      "\n"
     ]
    }
   ],
   "source": [
    "debug = False\n",
    "\n",
    "# data collection cell, run this to start data storage!\n",
    "q_downsample = 15  # leave at 15; how much to downsample rt output (doesnt affect saved data) (eg if 20, and ino at 1 khz, will be 50 hz)\n",
    "fs = 500\n",
    "\n",
    "# timing vars\n",
    "start_time = dt.datetime.now()\n",
    "one_mindelta = dt.timedelta(minutes=1)\n",
    "exp_timedelta = time_in_minutes*one_mindelta # key var to be compared against (now - start_time)\n",
    "\n",
    "# file vars\n",
    "fname = f'{start_time.strftime(\"%Y%m%d\")}_{subject}{suffix}.txt'\n",
    "file_path = os.path.join(path, fname)\n",
    "\n",
    "# flow vars\n",
    "first_line = 1  # don't change\n",
    "second_line = 0  # don't change\n",
    "sync_sent = 0\n",
    "header_max_attempts = 10  # 10 should be plenty. if fails, sth else is likely wrong.\n",
    "\n",
    "# Open queue to animator\n",
    "data_queue = Queue()\n",
    "therm_data = np.zeros((n_samples,), dtype='float')\n",
    "data_head_idx = 0  # to trace out data like an o-scope\n",
    "q_downsample_counter = 0\n",
    "animate_process = main_from_ipynb(data_queue, n_samples, int(fs/q_downsample))\n",
    "    \n",
    "# daq\n",
    "try:\n",
    "    with open(file_path, 'x') as file:\n",
    "        with serial.Serial(port, baudrate=115200, timeout=0.1) as ino, serial.Serial('COM7', baudrate=9600, timeout=0.1) as sync_device:\n",
    "            reader = ReadLine(ino)\n",
    "            while (dt.datetime.now() - start_time) < exp_timedelta:  \n",
    "                \n",
    "                # Read the line\n",
    "                line = reader.readline().decode('utf-8').strip('\\r\\n')\n",
    "                \n",
    "                # Remove the DEBUG output if present and debugging\n",
    "                if debug:\n",
    "                    line = line[:(line.find(',DEBUG:'))]\n",
    "\n",
    "                # These checks get header and process it\n",
    "                if first_line:\n",
    "                    # Ask the arduino to print the header\n",
    "                    ino.write('h'.encode('utf-8'))\n",
    "                    \n",
    "                    # Verify first line\n",
    "                    first_line, second_line, header = first_line_check(header_max_attempts, file, ino)\n",
    "                    \n",
    "                    # Extract indices of values we're intersted in\n",
    "                    header_len = len(header.split(','))\n",
    "                    print(header)\n",
    "                    thermistor_idx = [i for i,val in enumerate(header.split(',')) if (val=='therm' or val=='thermistor')][0]\n",
    "                    if show_opto:\n",
    "                        opto_idx = [i for i,val in enumerate(header.split(',')) if val==opto_header_name][0]\n",
    "                    led_idxs = [i for i,val in enumerate(header.split(',')) if 'led' in val]\n",
    "                    \n",
    "                # Check the data lines have the correct amount of data\n",
    "                # Returns false when good\n",
    "                elif second_line:\n",
    "                    second_line = second_line_check(line, header)\n",
    "                \n",
    "                # Assuming data looks good, start the sync device\n",
    "                if not(first_line or second_line) and not(sync_sent):\n",
    "                    print('sending start msg to sync device')\n",
    "                    num = b\"\".join([packIntAsLong(int(time_in_minutes*60*30 + 300))])\n",
    "                    sync_device.write(num)\n",
    "                    print('msg sent')\n",
    "                    sync_sent = 1\n",
    "                    print(sync_device.readline().decode('utf-8'))\n",
    "                    \n",
    "                # Check for the typical (but rare) serial read issues\n",
    "                if len(line) == 0:\n",
    "                    print('Got empty line, continuing...')\n",
    "                    continue\n",
    "                elif len(line.split(',')) != header_len:\n",
    "                    print('Got line with unexpected length (skipping):')\n",
    "                    print(line)\n",
    "                    continue\n",
    "                else:  \n",
    "                    # typical case -- write line directly to file\n",
    "                    file.write(line)\n",
    "                    file.write('\\n')\n",
    "                    \n",
    "                \n",
    "                # Prep thermistor data for animator\n",
    "                therm_val = np.array(line.split(',')[thermistor_idx], dtype='float')\n",
    "                therm_data[data_head_idx] = therm_val\n",
    "                if show_opto:\n",
    "                    opto_val = np.array(line.split(',')[opto_idx], dtype='float')\n",
    "\n",
    "                # Show inhales and exhales in super janky way\n",
    "#                 if np.array(line.split(',')[8], dtype='int') == 1:\n",
    "#                     therm_data[data_head_idx] = 1000\n",
    "#                 elif np.array(line.split(',')[9], dtype='int') == 1:\n",
    "#                     therm_data[data_head_idx] = 0\n",
    "                \n",
    "                # Delete the oldest data to make it o-scope-like\n",
    "                therm_data[(data_head_idx+100) % n_samples] = np.nan\n",
    "                data_head_idx += 1\n",
    "                data_head_idx = data_head_idx % n_samples\n",
    "\n",
    "                # Increment downsample counter\n",
    "                q_downsample_counter += 1\n",
    "                q_downsample_counter = q_downsample_counter % q_downsample\n",
    "                \n",
    "                # Decide if sending to animator\n",
    "                if q_downsample_counter == 0:\n",
    "                    \n",
    "                    # Extract syncs in real time\n",
    "                    sync_tup = tuple([line.split(',')[idx] for idx in led_idxs])\n",
    "\n",
    "                    if show_opto:\n",
    "                        data_queue.put((therm_data, sync_tup, opto_val))\n",
    "                    else:\n",
    "                        data_queue.put((therm_data, sync_tup, 0))\n",
    "                \n",
    "            # After data collection finishes, close queue with empty tuple\n",
    "            data_queue.put(tuple())\n",
    "\n",
    "# Catch other unexpected errors            \n",
    "finally:\n",
    "    if animate_process.is_alive():\n",
    "        data_queue.put(tuple())\n",
    "    print('Done.')"
   ]
  },
  {
   "cell_type": "code",
   "execution_count": null,
   "id": "2bb368e9",
   "metadata": {},
   "outputs": [],
   "source": []
  },
  {
   "cell_type": "code",
   "execution_count": null,
   "id": "36b4796e",
   "metadata": {},
   "outputs": [],
   "source": []
  },
  {
   "cell_type": "markdown",
   "id": "3badbe0e",
   "metadata": {},
   "source": [
    "## Post-experiment summaries"
   ]
  },
  {
   "cell_type": "code",
   "execution_count": 65,
   "id": "74083de2",
   "metadata": {
    "scrolled": false
   },
   "outputs": [],
   "source": [
    "data = pd.read_csv(glob.glob(os.path.join(path, '*.txt'))[0])"
   ]
  },
  {
   "cell_type": "code",
   "execution_count": 66,
   "id": "74dd29a8",
   "metadata": {
    "scrolled": true
   },
   "outputs": [
    {
     "name": "stdout",
     "output_type": "stream",
     "text": [
      "Therm over: 4608\n",
      "Therm under: 0\n",
      "Time elapsed since start: 66.8 minutes\n"
     ]
    }
   ],
   "source": [
    "therm_over_thresh_count = ((data.therm > 900) & (data.dac<=0.1)).sum()\n",
    "therm_under_thresh_count = ((data.therm < 200) & (data.dac >= 3.25)).sum()\n",
    "print(f'Therm over: {therm_over_thresh_count}')\n",
    "print(f'Therm under: {therm_under_thresh_count}')\n",
    "print(f'Time elapsed since start: {(dt.datetime.now() - start_time).seconds/60:0.1f} minutes')"
   ]
  },
  {
   "cell_type": "code",
   "execution_count": null,
   "id": "b417facc",
   "metadata": {},
   "outputs": [],
   "source": []
  }
 ],
 "metadata": {
  "kernelspec": {
   "display_name": "Python 3 (ipykernel)",
   "language": "python",
   "name": "python3"
  },
  "language_info": {
   "codemirror_mode": {
    "name": "ipython",
    "version": 3
   },
   "file_extension": ".py",
   "mimetype": "text/x-python",
   "name": "python",
   "nbconvert_exporter": "python",
   "pygments_lexer": "ipython3",
   "version": "3.8.3"
  }
 },
 "nbformat": 4,
 "nbformat_minor": 5
}
