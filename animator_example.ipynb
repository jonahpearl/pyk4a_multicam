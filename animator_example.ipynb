{
 "cells": [
  {
   "cell_type": "code",
   "execution_count": 1,
   "id": "bd9e0112-3534-4954-8f30-f7ef56f57d49",
   "metadata": {},
   "outputs": [],
   "source": [
    "import numpy as np\n",
    "from top_bottom_triggered.fast_animate import ThermistorAnimator\n",
    "import matplotlib.pyplot as plt\n",
    "import matplotlib\n",
    "from time import time, sleep"
   ]
  },
  {
   "cell_type": "code",
   "execution_count": 2,
   "id": "9e0af22c-b9fc-4239-8ac9-c94b320439ab",
   "metadata": {},
   "outputs": [],
   "source": [
    "matplotlib.use('Qt5Agg')"
   ]
  },
  {
   "cell_type": "code",
   "execution_count": 3,
   "id": "eb2952c8-04b9-43e0-b2d6-c71dfd992e26",
   "metadata": {},
   "outputs": [],
   "source": [
    "fs = 500\n",
    "n_samples_to_show = fs*2\n",
    "\n",
    "dummy_header = 'foo,bar,thermistor'\n",
    "dummy_data = [f'0,0,{str(np.sin(i).round(3))}' for i in np.arange(0, 50, (np.pi/fs))]  # sin wave at 0.5 hz\n",
    "\n",
    "# dummy_header = 'led1,led2,led3,led4,thermistor'\n",
    "# dummy_data = [f'0,0,0,0,{str(np.sin(i).round(3))}' for i in np.arange(0, 50, (np.pi/fs))] "
   ]
  },
  {
   "cell_type": "code",
   "execution_count": 4,
   "id": "6992526c-8d1b-4d93-acab-862549c69bd8",
   "metadata": {},
   "outputs": [],
   "source": [
    "thermistor_animator = ThermistorAnimator(n_samples_to_show, fs, signal_header_name='thermistor', signal_initial_yvals=(-1,1))\n",
    "thermistor_animator.extract_indices_from_header(dummy_header)\n",
    "thermistor_animator.start()"
   ]
  },
  {
   "cell_type": "code",
   "execution_count": 5,
   "id": "09f32e36-f390-4998-95fd-27c06ea22770",
   "metadata": {},
   "outputs": [],
   "source": [
    "# thermistor_animator.close()"
   ]
  },
  {
   "cell_type": "code",
   "execution_count": 6,
   "id": "354ccf94-07ca-4315-a066-1b4814e944e7",
   "metadata": {},
   "outputs": [],
   "source": [
    "tic = time()\n",
    "iLine = 0\n",
    "while iLine < len(dummy_data):\n",
    "    toc = time()\n",
    "    if (toc - tic) > (1/fs):\n",
    "        tic = toc\n",
    "        thermistor_animator.update(dummy_data[iLine])\n",
    "        iLine += 1\n",
    "thermistor_animator.close()"
   ]
  },
  {
   "cell_type": "code",
   "execution_count": null,
   "id": "379fa744-3591-4496-97ed-bdb00849b7e7",
   "metadata": {},
   "outputs": [],
   "source": []
  }
 ],
 "metadata": {
  "kernelspec": {
   "display_name": "Python 3 (ipykernel)",
   "language": "python",
   "name": "python3"
  },
  "language_info": {
   "codemirror_mode": {
    "name": "ipython",
    "version": 3
   },
   "file_extension": ".py",
   "mimetype": "text/x-python",
   "name": "python",
   "nbconvert_exporter": "python",
   "pygments_lexer": "ipython3",
   "version": "3.11.5"
  }
 },
 "nbformat": 4,
 "nbformat_minor": 5
}
