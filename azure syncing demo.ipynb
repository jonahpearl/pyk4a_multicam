{
 "cells": [
  {
   "cell_type": "markdown",
   "id": "d23e6839",
   "metadata": {
    "toc": true
   },
   "source": [
    "<h1>Table of Contents<span class=\"tocSkip\"></span></h1>\n",
    "<div class=\"toc\"><ul class=\"toc-item\"><li><span><a href=\"#Three-Azure-&quot;gotchas&quot;\" data-toc-modified-id=\"Three-Azure-&quot;gotchas&quot;-1\">Three Azure \"gotchas\"</a></span><ul class=\"toc-item\"><li><span><a href=\"#1.-Accumulation-of-drift\" data-toc-modified-id=\"1.-Accumulation-of-drift-1.1\">1. Accumulation of drift</a></span></li><li><span><a href=\"#2.-The-Azure-clock-starts-at-200-ms-when-it-receives-the-first-trigger-and-it's-in-subordinate-mode\" data-toc-modified-id=\"2.-The-Azure-clock-starts-at-200-ms-when-it-receives-the-first-trigger-and-it's-in-subordinate-mode-1.2\">2. The Azure clock starts at 200 ms when it receives the first trigger and it's in subordinate mode</a></span></li><li><span><a href=\"#3.-The-Azure-depth-frames-start-before-the-syncing-pulse-arrives\" data-toc-modified-id=\"3.-The-Azure-depth-frames-start-before-the-syncing-pulse-arrives-1.3\">3. The Azure depth frames start before the syncing pulse arrives</a></span></li></ul></li><li><span><a href=\"#Azure-ts-inspection\" data-toc-modified-id=\"Azure-ts-inspection-2\">Azure ts inspection</a></span></li><li><span><a href=\"#Validating-the-syncing-method\" data-toc-modified-id=\"Validating-the-syncing-method-3\">Validating the syncing method</a></span><ul class=\"toc-item\"><li><span><a href=\"#Load-the-trigger-signal-recorded-on-the-Teensy\" data-toc-modified-id=\"Load-the-trigger-signal-recorded-on-the-Teensy-3.1\">Load the trigger signal recorded on the Teensy</a></span></li><li><span><a href=\"#Load-the-pre-processed-sync-via-the-LED-method\" data-toc-modified-id=\"Load-the-pre-processed-sync-via-the-LED-method-3.2\">Load the pre-processed sync via the LED method</a></span></li><li><span><a href=\"#Compare-with-the-triggers\" data-toc-modified-id=\"Compare-with-the-triggers-3.3\">Compare with the triggers</a></span></li><li><span><a href=\"#[DEPRECATED]-Do-the-syncing\" data-toc-modified-id=\"[DEPRECATED]-Do-the-syncing-3.4\">[DEPRECATED] Do the syncing</a></span></li></ul></li></ul></div>"
   ]
  },
  {
   "cell_type": "code",
   "execution_count": 1,
   "id": "94451be1",
   "metadata": {},
   "outputs": [],
   "source": [
    "import numpy as np\n",
    "import matplotlib.pyplot as plt\n",
    "# from top_bottom_moseq.util import count_frames, match_frames\n",
    "import os\n",
    "from os.path import join\n",
    "import moseq_fo.util.timeseries_utils as tsu\n",
    "import moseq_fo.util.np_utils as npu\n",
    "import av\n",
    "import pandas as pd\n",
    "import warnings"
   ]
  },
  {
   "cell_type": "code",
   "execution_count": 2,
   "id": "b52d5386",
   "metadata": {},
   "outputs": [],
   "source": [
    "def count_frames(file_name):\n",
    "    with av.open(file_name, 'r') as reader:\n",
    "        return reader.streams.video[0].frames    \n",
    "    \n",
    "\n",
    "def index_of_nearest_value(data_timestamps, event_timestamps, side='both'):\n",
    "    \"\"\"\n",
    "    https://github.com/AllenInstitute/mindscope_utilities/blob/e5aa1e6aebf3f62570aaff0e2e9dba835c999a23/mindscope_utilities/general_utilities.py#L149\n",
    "    The index of the nearest sample time for each event time.\n",
    "    Parameters:\n",
    "    -----------\n",
    "    sample_timestamps : np.ndarray of floats\n",
    "        sorted 1-d vector of data sample timestamps.\n",
    "    event_timestamps : np.ndarray of floats\n",
    "        1-d vector of event timestamps.\n",
    "    boundary_tol: float (default: None)\n",
    "        If None, excludes event timestamps that are outside of the data timestamps range\n",
    "        If a float, values within edge_tol of the first/last times are allowed.\n",
    "    side: str (default \"both\")\n",
    "        If \"previous\", returns index of closest data timestamp BEFORE each event \n",
    "        If \"subsequent\", returns index of closest data timestamp AFTER each event \n",
    "        If \"both\", returns absolute closest data timestamp for each event\n",
    "    Returns:\n",
    "    --------\n",
    "    event_aligned_ind : np.ndarray of int\n",
    "        An array of nearest sample time index for each event times.\n",
    "        Event times outside of the bounds are given an index of -1.\n",
    "        (NB, of course -1 is still a valid index in Python! But there is no integer nan, so -1 is the best way we have to say \"invalid intger\")\n",
    "    \"\"\"\n",
    "    data_timestamps, event_timestamps = npu.castnp(data_timestamps, event_timestamps)\n",
    "\n",
    "    insertion_ind = np.searchsorted(data_timestamps, event_timestamps, side='left')\n",
    "\n",
    "    # Sanitize event timestamps outside of the data timestamps range\n",
    "    outside_range_bool = np.logical_or(\n",
    "        event_timestamps < data_timestamps[0], event_timestamps > data_timestamps[-1]\n",
    "    )\n",
    "    if outside_range_bool.sum() > 0:\n",
    "        warnings.warn(\n",
    "            \"Some event timestamps are outside the range of data timestamps. Such indices will be denoted -1 in the returned vector.\"\n",
    "        )\n",
    "    insertion_ind = insertion_ind[~outside_range_bool]\n",
    "\n",
    "    if side=='both':\n",
    "        # Is the value closer to data at insertion_ind or insertion_ind-1?\n",
    "        ind_diff = data_timestamps[insertion_ind] - event_timestamps[~outside_range_bool]\n",
    "        ind_minus_one_diff = np.abs(\n",
    "            data_timestamps[np.clip(insertion_ind - 1, 0, np.inf).astype(int)]\n",
    "            - event_timestamps[~outside_range_bool]\n",
    "        )\n",
    "        event_indices = insertion_ind - (ind_diff > ind_minus_one_diff).astype(int)\n",
    "    elif side=='previous':\n",
    "        event_indices = insertion_ind - 1\n",
    "    elif side=='subsequent':\n",
    "        event_indices = insertion_ind\n",
    "\n",
    "    # Pad with nans in case some values were removed due to boundaries\n",
    "    event_indices_full = -1 * np.ones(event_timestamps.shape, dtype=\"int\")\n",
    "    event_indices_full[~outside_range_bool] = event_indices\n",
    "\n",
    "    return event_indices_full"
   ]
  },
  {
   "cell_type": "code",
   "execution_count": 3,
   "id": "50ab72ff",
   "metadata": {},
   "outputs": [],
   "source": [
    "%matplotlib inline"
   ]
  },
  {
   "cell_type": "code",
   "execution_count": 5,
   "id": "6791679b",
   "metadata": {},
   "outputs": [],
   "source": [
    "# path = '/n/groups/datta/Jonah/top_bottom_trigger_testing/trigger_test/'\n",
    "# prefix = '20230308_trigger_test'  # good\n",
    "\n",
    "# path = '/n/groups/datta/Jonah/top_bottom_trigger_testing/trigger_test/'\n",
    "# prefix = '20230428_long_test'\n",
    "\n",
    "path = '/n/groups/datta/Jonah/top_bottom_trigger_testing/trigger_test/'\n",
    "# prefix = '20230502_long_test'\n",
    "# prefix = '20230502_offset_test_wait'\n",
    "prefix = '20230502_full_test'"
   ]
  },
  {
   "cell_type": "code",
   "execution_count": null,
   "id": "bc4a4b22",
   "metadata": {},
   "outputs": [],
   "source": []
  },
  {
   "cell_type": "markdown",
   "id": "14bb5cd6",
   "metadata": {},
   "source": [
    "# Three Azure \"gotchas\""
   ]
  },
  {
   "cell_type": "code",
   "execution_count": 6,
   "id": "289717ae",
   "metadata": {},
   "outputs": [],
   "source": [
    "# Load the timestamps\n",
    "top_ts_tmp = np.load(join(path, prefix, prefix+'.top.device_timestamps.npy'))"
   ]
  },
  {
   "cell_type": "code",
   "execution_count": 7,
   "id": "e9ee1660",
   "metadata": {},
   "outputs": [
    {
     "data": {
      "text/plain": [
       "array([0.240533, 0.266766, 0.299988, 0.333333, 0.366666])"
      ]
     },
     "execution_count": 7,
     "metadata": {},
     "output_type": "execute_result"
    }
   ],
   "source": [
    "top_ts_tmp[:5]/1e6"
   ]
  },
  {
   "cell_type": "markdown",
   "id": "50f47935",
   "metadata": {},
   "source": [
    "## 1. Accumulation of drift\n",
    "If you look at the device timestamps for the frames, it looks like everything is roughly correct -- 33,333 usec per frame."
   ]
  },
  {
   "cell_type": "code",
   "execution_count": 8,
   "id": "5a7e98cc",
   "metadata": {},
   "outputs": [
    {
     "data": {
      "text/plain": [
       "array([26233, 33211, 33222, 33223, 33233, 33234, 33244, 33245, 33322,\n",
       "       33333, 33334, 33344, 33345, 33422, 33433, 33434, 33444, 33445,\n",
       "       33455, 33456])"
      ]
     },
     "execution_count": 8,
     "metadata": {},
     "output_type": "execute_result"
    }
   ],
   "source": [
    "np.unique(np.diff(top_ts_tmp))"
   ]
  },
  {
   "cell_type": "markdown",
   "id": "e9e8fb3a",
   "metadata": {},
   "source": [
    "You might then naively calculate trigger number based on the number of 33,333 usec periods that have elapsed. This makes it look like there are some dropped frames and some odd double-frames in the middle of the recording. Is that right?"
   ]
  },
  {
   "cell_type": "code",
   "execution_count": 9,
   "id": "76f75b73",
   "metadata": {},
   "outputs": [
    {
     "data": {
      "text/plain": [
       "[<matplotlib.lines.Line2D at 0x7f4ba81af430>]"
      ]
     },
     "execution_count": 9,
     "metadata": {},
     "output_type": "execute_result"
    },
    {
     "data": {
      "image/png": "[encoded data removed]",
      "text/plain": [
       "<Figure size 300x300 with 1 Axes>"
      ]
     },
     "metadata": {},
     "output_type": "display_data"
    }
   ],
   "source": [
    "diffs = np.diff(np.rint(top_ts_tmp/33333))\n",
    "plt.figure(figsize=(3,3))\n",
    "plt.plot(diffs)"
   ]
  },
  {
   "cell_type": "code",
   "execution_count": 10,
   "id": "4d5e59a2",
   "metadata": {},
   "outputs": [
    {
     "data": {
      "text/plain": [
       "[<matplotlib.lines.Line2D at 0x7f4ba7a58d30>]"
      ]
     },
     "execution_count": 10,
     "metadata": {},
     "output_type": "execute_result"
    },
    {
     "data": {
      "image/png": "[encoded data removed]",
      "text/plain": [
       "<Figure size 300x300 with 1 Axes>"
      ]
     },
     "metadata": {},
     "output_type": "display_data"
    }
   ],
   "source": [
    "# zoom in\n",
    "s = slice(49900, 50020)\n",
    "plt.figure(figsize=(3,3))\n",
    "plt.plot(diffs[s])"
   ]
  },
  {
   "cell_type": "markdown",
   "id": "c3ab18de",
   "metadata": {},
   "source": [
    "It turns out this is an artefact of the drifting timestamps + rounding issues. For example, if `(timestamps / fr period)` were `[7.499, 8.501, 9.501, 10.499]` you would round to `[7 9 9 10]`, and your diffs would jump between 0 and 2, as like in the above plot.\n",
    "\n",
    "Indeed, when we look at how the inter-frame intervals add up over time, we can see the drift is equal to about 1 frame per hour."
   ]
  },
  {
   "cell_type": "code",
   "execution_count": 11,
   "id": "901d1b57",
   "metadata": {},
   "outputs": [
    {
     "data": {
      "text/plain": [
       "0.9732477139661457"
      ]
     },
     "execution_count": 11,
     "metadata": {},
     "output_type": "execute_result"
    }
   ],
   "source": [
    "rec_length_in_hrs = (top_ts_tmp[-1] - top_ts_tmp[0])/1e6/60/60\n",
    "ratio_of_inter_frame_intervals_to_expected = np.diff(top_ts_tmp)/33333  # should be ~1, and it is -- but slightly skewed positive\n",
    "total_difference = np.sum(ratio_of_inter_frame_intervals_to_expected - 1)\n",
    "total_difference/rec_length_in_hrs  # frames per hour of drift"
   ]
  },
  {
   "cell_type": "markdown",
   "id": "dcc9fa91",
   "metadata": {},
   "source": [
    "The proper solution is to count frames by taking the inter-frame interval first, rounding to the nearest number of 33,333 usec periods, and adding those. This reveals no dropped frames."
   ]
  },
  {
   "cell_type": "code",
   "execution_count": 12,
   "id": "e854d8cb",
   "metadata": {},
   "outputs": [
    {
     "data": {
      "text/plain": [
       "[<matplotlib.lines.Line2D at 0x7f4ba79c1dc0>]"
      ]
     },
     "execution_count": 12,
     "metadata": {},
     "output_type": "execute_result"
    },
    {
     "data": {
      "image/png": "[encoded data removed]",
      "text/plain": [
       "<Figure size 300x300 with 1 Axes>"
      ]
     },
     "metadata": {},
     "output_type": "display_data"
    }
   ],
   "source": [
    "diffs = np.rint(np.diff(top_ts_tmp)/33333)\n",
    "plt.figure(figsize=(3,3))\n",
    "plt.plot(diffs)"
   ]
  },
  {
   "cell_type": "markdown",
   "id": "d711aee3",
   "metadata": {},
   "source": [
    "## 2. The Azure clock starts at 200 ms when it receives the first trigger and it's in subordinate mode\n",
    "As bizarre as this sounds, [it's true](https://github.com/microsoft/Azure-Kinect-Sensor-SDK/issues/1240#issuecomment-657889663). On top of this, the Python script that we use often drops the first frame or two. So, in order to match everything up, you need to do something like this:"
   ]
  },
  {
   "cell_type": "code",
   "execution_count": 13,
   "id": "72d42d57",
   "metadata": {},
   "outputs": [
    {
     "data": {
      "text/plain": [
       "array([     1,      2,      3, ..., 215821, 215822, 215823])"
      ]
     },
     "execution_count": 13,
     "metadata": {},
     "output_type": "execute_result"
    }
   ],
   "source": [
    "azure_sync_start_offset = 200000  # 200 ms\n",
    "frame_length = 33333\n",
    "n_initial_dropped_frames = np.rint((top_ts_tmp[0] - azure_sync_start_offset)/frame_length).astype('int')\n",
    "trigger_num_by_frame = n_initial_dropped_frames + np.hstack([0, np.cumsum(np.rint(np.diff(top_ts_tmp)/frame_length).astype(int))])\n",
    "trigger_num_by_frame"
   ]
  },
  {
   "cell_type": "code",
   "execution_count": 14,
   "id": "ef9de3f4",
   "metadata": {},
   "outputs": [
    {
     "data": {
      "text/plain": [
       "1"
      ]
     },
     "execution_count": 14,
     "metadata": {},
     "output_type": "execute_result"
    }
   ],
   "source": [
    "n_initial_dropped_frames"
   ]
  },
  {
   "cell_type": "markdown",
   "id": "2a21194e",
   "metadata": {},
   "source": [
    "Note that this logic with `np.cumsum` catches dropped frames:"
   ]
  },
  {
   "cell_type": "code",
   "execution_count": 15,
   "id": "8af51dba",
   "metadata": {},
   "outputs": [
    {
     "data": {
      "text/plain": [
       "array([1, 2, 4, 5])"
      ]
     },
     "execution_count": 15,
     "metadata": {},
     "output_type": "execute_result"
    }
   ],
   "source": [
    "dropped_fr_ts = np.array([0, 10, 20, 40, 50]) \n",
    "np.cumsum(np.rint(np.diff(dropped_fr_ts)/10).astype(int))"
   ]
  },
  {
   "cell_type": "markdown",
   "id": "f502e02a",
   "metadata": {},
   "source": [
    "## 3. The Azure depth frames start before the syncing pulse arrives\n",
    "This one is the most fun yet. \n",
    "\n",
    "(NB: this won't actually matter most of the time, but it's worth knowing)\n",
    "\n",
    "As discussed [here](https://github.com/microsoft/Azure-Kinect-Sensor-SDK/issues/868#issuecomment-594120342) and in wes-b's subsequent reply, it's the Azure's **color** camera which is aligned to syncing pulses. How does this relate to the depth/IR frames?\n",
    "\n",
    "\"The delay between color and depth start is (color exposure)/2 - (depth exposure)/2. In the case where the depth exposure is larger than color expose the same formula is used. The result is negative and therefore requires the depth capture to start before color.\" \n",
    "\n",
    "In our code, we turn the color camera off entirely (I think), because we don't want to deal with any more data than we need to. And the depth / IR \"exposure time\" is practically 12 ms (it's more complicated but we can gloss over that for now). So the Azure times itself such that the depth frames are actually started `(0/2-12/2)` = **~6 ms before** the syncing signal arrives.\n",
    "\n",
    "\n",
    "Based on some testing (see `azure_ir_offset_from_trigger` variable below), I think that the IR frame is collected at the end of the depth frame, ie **6 ms _after_** the trigger. By adding a trigger offset condition into the condition for changing the sync LEDs, I'm able to have this be a non-issue for the sync validation. But if anyone ever needs to use the IR frames from the triggered Azure, it's good to know that they're 6 ms behind the trigger. "
   ]
  },
  {
   "cell_type": "code",
   "execution_count": null,
   "id": "0a409f78",
   "metadata": {},
   "outputs": [],
   "source": []
  },
  {
   "cell_type": "markdown",
   "id": "81561452",
   "metadata": {},
   "source": [
    "# Azure ts inspection"
   ]
  },
  {
   "cell_type": "code",
   "execution_count": 16,
   "id": "7e21ed37",
   "metadata": {},
   "outputs": [],
   "source": [
    "az_diffs = np.diff(top_ts_tmp)"
   ]
  },
  {
   "cell_type": "code",
   "execution_count": 17,
   "id": "66102041",
   "metadata": {},
   "outputs": [
    {
     "data": {
      "text/plain": [
       "[<matplotlib.lines.Line2D at 0x7f4ba7935940>]"
      ]
     },
     "execution_count": 17,
     "metadata": {},
     "output_type": "execute_result"
    },
    {
     "data": {
      "image/png": "[encoded data removed]",
      "text/plain": [
       "<Figure size 640x480 with 1 Axes>"
      ]
     },
     "metadata": {},
     "output_type": "display_data"
    }
   ],
   "source": [
    "plt.plot(az_diffs[1:50], '-o')"
   ]
  },
  {
   "cell_type": "code",
   "execution_count": null,
   "id": "bbd1d814",
   "metadata": {},
   "outputs": [],
   "source": []
  },
  {
   "cell_type": "markdown",
   "id": "7af160c5",
   "metadata": {},
   "source": [
    "# Validating the syncing method\n",
    "\n",
    "Up until now, we flashed LEDs in semi-random patterns to encode an integer into each frame, and then we used that integer to align with our other data streams. Here I use that to independently validate the trigger syncing. I recorded the trigger signal + the LED signals on a Teensy."
   ]
  },
  {
   "cell_type": "markdown",
   "id": "f9b153da",
   "metadata": {},
   "source": [
    "## Load the trigger signal recorded on the Teensy"
   ]
  },
  {
   "cell_type": "code",
   "execution_count": 18,
   "id": "8bbfbf27",
   "metadata": {
    "scrolled": false
   },
   "outputs": [],
   "source": [
    "ino_df = pd.read_csv(join(path, prefix, prefix +'.txt'))\n",
    "trigger_col_name = 'trigger'\n",
    "frame_period_in_msec = 33.333\n",
    "\n",
    "# If arduino trigger count does not start at zero, alignment will be ambiguous!\n",
    "assert ino_df.loc[0, trigger_col_name] == 0"
   ]
  },
  {
   "cell_type": "code",
   "execution_count": 19,
   "id": "923a3b61",
   "metadata": {},
   "outputs": [
    {
     "data": {
      "text/html": [
       "<div>\n",
       "<style scoped>\n",
       "    .dataframe tbody tr th:only-of-type {\n",
       "        vertical-align: middle;\n",
       "    }\n",
       "\n",
       "    .dataframe tbody tr th {\n",
       "        vertical-align: top;\n",
       "    }\n",
       "\n",
       "    .dataframe thead th {\n",
       "        text-align: right;\n",
       "    }\n",
       "</style>\n",
       "<table border=\"1\" class=\"dataframe\">\n",
       "  <thead>\n",
       "    <tr style=\"text-align: right;\">\n",
       "      <th></th>\n",
       "      <th>time</th>\n",
       "      <th>led1</th>\n",
       "      <th>led2</th>\n",
       "      <th>led3</th>\n",
       "      <th>led4</th>\n",
       "      <th>yaw</th>\n",
       "      <th>roll</th>\n",
       "      <th>pitch</th>\n",
       "      <th>acc_x</th>\n",
       "      <th>acc_y</th>\n",
       "      <th>acc_z</th>\n",
       "      <th>therm</th>\n",
       "      <th>dac</th>\n",
       "      <th>trigger</th>\n",
       "    </tr>\n",
       "  </thead>\n",
       "  <tbody>\n",
       "    <tr>\n",
       "      <th>0</th>\n",
       "      <td>34244</td>\n",
       "      <td>0</td>\n",
       "      <td>0</td>\n",
       "      <td>0</td>\n",
       "      <td>0</td>\n",
       "      <td>11.875</td>\n",
       "      <td>-75.125</td>\n",
       "      <td>-59.8125</td>\n",
       "      <td>0.08</td>\n",
       "      <td>-0.05</td>\n",
       "      <td>0.0</td>\n",
       "      <td>0</td>\n",
       "      <td>3.3</td>\n",
       "      <td>0</td>\n",
       "    </tr>\n",
       "    <tr>\n",
       "      <th>1</th>\n",
       "      <td>34247</td>\n",
       "      <td>0</td>\n",
       "      <td>0</td>\n",
       "      <td>0</td>\n",
       "      <td>0</td>\n",
       "      <td>11.875</td>\n",
       "      <td>-75.125</td>\n",
       "      <td>-59.8125</td>\n",
       "      <td>0.08</td>\n",
       "      <td>-0.05</td>\n",
       "      <td>0.0</td>\n",
       "      <td>0</td>\n",
       "      <td>3.3</td>\n",
       "      <td>0</td>\n",
       "    </tr>\n",
       "    <tr>\n",
       "      <th>2</th>\n",
       "      <td>34249</td>\n",
       "      <td>0</td>\n",
       "      <td>0</td>\n",
       "      <td>0</td>\n",
       "      <td>0</td>\n",
       "      <td>11.875</td>\n",
       "      <td>-75.125</td>\n",
       "      <td>-59.8125</td>\n",
       "      <td>0.08</td>\n",
       "      <td>-0.05</td>\n",
       "      <td>0.0</td>\n",
       "      <td>0</td>\n",
       "      <td>3.3</td>\n",
       "      <td>0</td>\n",
       "    </tr>\n",
       "    <tr>\n",
       "      <th>3</th>\n",
       "      <td>34251</td>\n",
       "      <td>0</td>\n",
       "      <td>0</td>\n",
       "      <td>0</td>\n",
       "      <td>0</td>\n",
       "      <td>11.875</td>\n",
       "      <td>-75.125</td>\n",
       "      <td>-59.8125</td>\n",
       "      <td>0.08</td>\n",
       "      <td>-0.05</td>\n",
       "      <td>0.0</td>\n",
       "      <td>0</td>\n",
       "      <td>3.3</td>\n",
       "      <td>0</td>\n",
       "    </tr>\n",
       "    <tr>\n",
       "      <th>4</th>\n",
       "      <td>34253</td>\n",
       "      <td>0</td>\n",
       "      <td>0</td>\n",
       "      <td>0</td>\n",
       "      <td>0</td>\n",
       "      <td>11.875</td>\n",
       "      <td>-75.125</td>\n",
       "      <td>-59.8125</td>\n",
       "      <td>0.08</td>\n",
       "      <td>-0.05</td>\n",
       "      <td>0.0</td>\n",
       "      <td>0</td>\n",
       "      <td>3.3</td>\n",
       "      <td>0</td>\n",
       "    </tr>\n",
       "  </tbody>\n",
       "</table>\n",
       "</div>"
      ],
      "text/plain": [
       "    time  led1  led2  led3  led4     yaw    roll    pitch  acc_x  acc_y  \\\n",
       "0  34244     0     0     0     0  11.875 -75.125 -59.8125   0.08  -0.05   \n",
       "1  34247     0     0     0     0  11.875 -75.125 -59.8125   0.08  -0.05   \n",
       "2  34249     0     0     0     0  11.875 -75.125 -59.8125   0.08  -0.05   \n",
       "3  34251     0     0     0     0  11.875 -75.125 -59.8125   0.08  -0.05   \n",
       "4  34253     0     0     0     0  11.875 -75.125 -59.8125   0.08  -0.05   \n",
       "\n",
       "   acc_z  therm  dac  trigger  \n",
       "0    0.0      0  3.3        0  \n",
       "1    0.0      0  3.3        0  \n",
       "2    0.0      0  3.3        0  \n",
       "3    0.0      0  3.3        0  \n",
       "4    0.0      0  3.3        0  "
      ]
     },
     "execution_count": 19,
     "metadata": {},
     "output_type": "execute_result"
    }
   ],
   "source": [
    "ino_df.head()"
   ]
  },
  {
   "cell_type": "code",
   "execution_count": 20,
   "id": "9fc716cd",
   "metadata": {
    "scrolled": false
   },
   "outputs": [
    {
     "name": "stdout",
     "output_type": "stream",
     "text": [
      "[0 1 2 3 4 5 6 7 8 9]\n"
     ]
    },
    {
     "data": {
      "text/plain": [
       "[<matplotlib.lines.Line2D at 0x7f4ba7875bb0>]"
      ]
     },
     "execution_count": 20,
     "metadata": {},
     "output_type": "execute_result"
    },
    {
     "data": {
      "image/png": "[encoded data removed]",
      "text/plain": [
       "<Figure size 640x480 with 1 Axes>"
      ]
     },
     "metadata": {},
     "output_type": "display_data"
    }
   ],
   "source": [
    "# Find lines where the trigger interrupt was incremented\n",
    "diffs = np.hstack([np.nan, np.diff(ino_df[trigger_col_name])])\n",
    "ino_trigger_idx = np.where(diffs>=1)[0]\n",
    "ino_trigger_times = ino_df.time[ino_trigger_idx].reset_index(drop=True)\n",
    "\n",
    "# There's no guarantee that the Teensy didn't miss any triggers,\n",
    "# so we need to use the same trick we used with the Azure\n",
    "# and convert trigger times into n triggers.\n",
    "ino_trigger_nums = np.hstack([0, np.cumsum(np.rint(np.diff(ino_trigger_times)/frame_period_in_msec).astype(int))])\n",
    "print(ino_trigger_nums[:10])\n",
    "\n",
    "plt.plot(ino_trigger_times[1:]/1000, np.diff(ino_trigger_nums))  # looks like none dropped"
   ]
  },
  {
   "cell_type": "code",
   "execution_count": 21,
   "id": "ba5ae0ae",
   "metadata": {},
   "outputs": [],
   "source": [
    "# debug: sometimes there are diffs of 0, without a corresponding diff of 2? \n",
    "# So is teensy actually receiving two triggers, or is it mis-counting due to some kind of phantom hardware signal?\n",
    "# After some googling -- people have seen this behavior before. Probably phantom.\n",
    "# See: https://forum.pjrc.com/threads/68738-T4-1-phantom-digital-interrupts-firing-(Scope-video-incl)?s=cb047d50e765fc222a37ab81628597f1&p=294571#post294571\n",
    "# And see: https://forum.pjrc.com/threads/68349-T4-1-multiple-interrupts-firing-on-one-pin-state-change\n",
    "\n",
    "# diff_zero_idx = ino_trigger_idx[np.where(np.diff(ino_trigger_nums)==0)[0]]\n",
    "# ii = diff_zero_idx[0]\n",
    "# ino_df.loc[(ii-10):(ii+10), :]"
   ]
  },
  {
   "cell_type": "code",
   "execution_count": 22,
   "id": "dea84cfc",
   "metadata": {
    "scrolled": true
   },
   "outputs": [],
   "source": [
    "# np.unique(np.diff(ino_trigger_times))"
   ]
  },
  {
   "cell_type": "code",
   "execution_count": null,
   "id": "ffb420c3",
   "metadata": {},
   "outputs": [],
   "source": []
  },
  {
   "cell_type": "code",
   "execution_count": null,
   "id": "298a6c86",
   "metadata": {},
   "outputs": [],
   "source": []
  },
  {
   "cell_type": "markdown",
   "id": "40f396fb",
   "metadata": {},
   "source": [
    "## Load the pre-processed sync via the LED method\n",
    "NB, you need to use the flag `--exclude-off-only` in the moseq2_ephys_sync pipeline to avoid off-by-one errors at events where LEDs only turned off (i.e. none turned on), because sometimes LEDs are one frame slow to turn off (capacitance? some kind of hardware issue)."
   ]
  },
  {
   "cell_type": "code",
   "execution_count": 26,
   "id": "2c0000c3",
   "metadata": {},
   "outputs": [],
   "source": [
    "import moseq2_ephys_sync as mes\n",
    "import pdb"
   ]
  },
  {
   "cell_type": "code",
   "execution_count": 27,
   "id": "66778247",
   "metadata": {},
   "outputs": [
    {
     "data": {
      "text/plain": [
       "array([[ 1.40000000e+00,  3.00000000e+00, -1.00000000e+00,\n",
       "         3.50000000e+01],\n",
       "       [ 1.40000000e+00,  2.00000000e+00,  1.00000000e+00,\n",
       "         3.50000000e+01],\n",
       "       [ 1.40000000e+00,  1.00000000e+00,  1.00000000e+00,\n",
       "         3.50000000e+01],\n",
       "       ...,\n",
       "       [ 7.19146666e+03,  2.00000000e+00, -1.00000000e+00,\n",
       "         2.15737000e+05],\n",
       "       [ 7.19146666e+03,  1.00000000e+00,  1.00000000e+00,\n",
       "         2.15737000e+05],\n",
       "       [ 7.19146666e+03,  3.00000000e+00, -1.00000000e+00,\n",
       "         2.15737000e+05]])"
      ]
     },
     "execution_count": 27,
     "metadata": {},
     "output_type": "execute_result"
    }
   ],
   "source": [
    "led_events = np.load(join(path, prefix, 'sync/top_ir_avi_led_events.npy'))\n",
    "led_events"
   ]
  },
  {
   "cell_type": "code",
   "execution_count": 28,
   "id": "2c9af177",
   "metadata": {},
   "outputs": [],
   "source": [
    "codes = np.load(join(path, prefix, 'sync/codes_top_ir_avi_and_txt.npz'))\n",
    "c1, c2 = codes['first_source_codes'], codes['second_source_codes']  # time, code, offset, idx\n"
   ]
  },
  {
   "cell_type": "code",
   "execution_count": 29,
   "id": "cd0690a9",
   "metadata": {
    "scrolled": true
   },
   "outputs": [
    {
     "data": {
      "text/plain": [
       "array([[1.40000000e+00, 3.43640000e+01, 3.50000000e+01, 5.80000000e+01],\n",
       "       [6.40010000e+00, 4.05400000e+01, 1.85000000e+02, 3.04800000e+03],\n",
       "       [1.14001000e+01, 4.55390000e+01, 3.35000000e+02, 5.46700000e+03],\n",
       "       ...,\n",
       "       [7.12646666e+03, 7.16054500e+03, 2.13787000e+05, 3.43894000e+06],\n",
       "       [7.13146666e+03, 7.16554600e+03, 2.13937000e+05, 3.44135100e+06],\n",
       "       [7.13646677e+03, 7.17054700e+03, 2.14087000e+05, 3.44377300e+06]])"
      ]
     },
     "execution_count": 29,
     "metadata": {},
     "output_type": "execute_result"
    }
   ],
   "source": [
    "matches = np.load(join(path, prefix, 'sync/matches.npy'))\n",
    "tmp = np.load(join(path, prefix, 'sync/top_ir_avi_from_txt_residuals.npz'))\n",
    "ts, resids = tmp['timestamps'], tmp['residuals']\n",
    "matches\n",
    "# matches[:,0] = az times\n",
    "# matches[:,1] = ino times\n",
    "# matches[:,2] = az indices\n",
    "# matches[:,3] = ino indices"
   ]
  },
  {
   "cell_type": "code",
   "execution_count": 30,
   "id": "e0880b3b",
   "metadata": {},
   "outputs": [
    {
     "data": {
      "text/plain": [
       "array([[1.4000000e+00, 3.4364000e+01, 3.5000000e+01, 5.8000000e+01],\n",
       "       [6.4001000e+00, 4.0540000e+01, 1.8500000e+02, 3.0480000e+03],\n",
       "       [1.1400100e+01, 4.5539000e+01, 3.3500000e+02, 5.4670000e+03],\n",
       "       [1.6399988e+01, 5.0540000e+01, 4.8500000e+02, 7.8850000e+03],\n",
       "       [2.1400100e+01, 5.5540000e+01, 6.3500000e+02, 1.0297000e+04],\n",
       "       [2.6399988e+01, 6.0540000e+01, 7.8500000e+02, 1.2725000e+04],\n",
       "       [3.6399988e+01, 7.0540000e+01, 1.0850000e+03, 1.7568000e+04],\n",
       "       [4.6399988e+01, 8.0539000e+01, 1.3850000e+03, 2.2391000e+04],\n",
       "       [5.6399988e+01, 9.0539000e+01, 1.6850000e+03, 2.7211000e+04],\n",
       "       [6.6399988e+01, 1.0053900e+02, 1.9850000e+03, 3.2031000e+04]])"
      ]
     },
     "execution_count": 30,
     "metadata": {},
     "output_type": "execute_result"
    }
   ],
   "source": [
    "matches[:10, :]"
   ]
  },
  {
   "cell_type": "code",
   "execution_count": 31,
   "id": "ffa915a5",
   "metadata": {},
   "outputs": [
    {
     "data": {
      "text/plain": [
       "[<matplotlib.lines.Line2D at 0x7f4ba7808490>]"
      ]
     },
     "execution_count": 31,
     "metadata": {},
     "output_type": "execute_result"
    },
    {
     "data": {
      "image/png": "[encoded data removed]",
      "text/plain": [
       "<Figure size 640x480 with 1 Axes>"
      ]
     },
     "metadata": {},
     "output_type": "display_data"
    }
   ],
   "source": [
    "plt.plot(np.diff(matches[:,0]))  # won't be all 5's since we're exlcuding only-off events"
   ]
  },
  {
   "cell_type": "markdown",
   "id": "8ae65030",
   "metadata": {},
   "source": [
    "## Compare with the triggers\n",
    "\n",
    "Now in order to compare this with the triggers, we do the following procedure:\n",
    "\n",
    "\n",
    "for a given LED match event (i.e. the frame in the Azure movie where the LEDs changed, and the row in the Teensy record where the LEDs changed)\n",
    "1) find the nearest trigger in the Teensy record\n",
    "2) Use the trigger values to find the corresponding Azure frame, \n",
    "3) Compare that frame to the frame we expected based on the LED match event."
   ]
  },
  {
   "cell_type": "code",
   "execution_count": 32,
   "id": "ea044fc4",
   "metadata": {},
   "outputs": [],
   "source": [
    "# azure_ir_offset_from_trigger = 0.0064  # account for delay betw when trigger arrives vs when IR frame is actually captured\n",
    "azure_ir_offset_from_trigger = 0"
   ]
  },
  {
   "cell_type": "code",
   "execution_count": 33,
   "id": "b893acb6",
   "metadata": {
    "scrolled": true
   },
   "outputs": [
    {
     "name": "stdout",
     "output_type": "stream",
     "text": [
      "Expect az fr num: 35 (ts: 1.4)\n",
      "Closest absolute trig val from teensy: 1\n",
      "Converted az fr num: [0] (ts: [0.240533])\n",
      "[-1.159467]\n"
     ]
    }
   ],
   "source": [
    "# pick a random LED match event\n",
    "random_idx = 0\n",
    "\n",
    "# info for this LED match event\n",
    "ino_ts = matches[random_idx, 1]\n",
    "az_ts = matches[random_idx, 0]\n",
    "az_fr = int(matches[random_idx, 2])\n",
    "print(f'Expect az fr num: {az_fr} (ts: {az_ts})')\n",
    "\n",
    "# find the closest trigger in the list of teensy trigger times\n",
    "ino_closest_subsequent_trigger_idx = index_of_nearest_value(\n",
    "    (ino_trigger_times/1000) + azure_ir_offset_from_trigger, # convert to sec\n",
    "    ino_ts, \n",
    "    side='subsequent',  # critically, need to use the following trigger, since Azure won't know about the LED change on the prev frame, even if it's technically closer\n",
    ")[0]\n",
    "ino_closest_abs_trigger_num = ino_trigger_nums[ino_closest_subsequent_trigger_idx]  # convert to absolute trigger number\n",
    "print(f'Closest absolute trig val from teensy: {ino_closest_abs_trigger_num}')\n",
    "\n",
    "# find the corresponding azure frame number\n",
    "az_converted_fr = np.where(trigger_num_by_frame == ino_closest_abs_trigger_num)[0]\n",
    "az_converted_ts = top_ts_tmp[az_converted_fr]/1e6\n",
    "print(f'Converted az fr num: {az_converted_fr} (ts: {az_converted_ts})')\n",
    "print(az_converted_ts - az_ts)\n",
    "\n"
   ]
  },
  {
   "cell_type": "code",
   "execution_count": null,
   "id": "f45e843e",
   "metadata": {},
   "outputs": [],
   "source": []
  },
  {
   "cell_type": "code",
   "execution_count": null,
   "id": "ba8f0756",
   "metadata": {},
   "outputs": [],
   "source": []
  },
  {
   "cell_type": "code",
   "execution_count": 41,
   "id": "ea5db6f9",
   "metadata": {},
   "outputs": [
    {
     "data": {
      "text/plain": [
       "Text(0.5, 1.0, 'LED-based validation of azure triggers')"
      ]
     },
     "execution_count": 41,
     "metadata": {},
     "output_type": "execute_result"
    },
    {
     "data": {
      "image/png": "[encoded data removed]",
      "text/plain": [
       "<Figure size 640x480 with 1 Axes>"
      ]
     },
     "metadata": {},
     "output_type": "display_data"
    }
   ],
   "source": [
    "# vectorize it\n",
    "# azure_ir_offset_from_trigger = 0.0064\n",
    "azure_ir_offset_from_trigger = 0  # fixed arduino to always change leds far enough away from trigger that this doesn't matter\n",
    "\n",
    "# All matched timestamps\n",
    "# ino_ts = matches[:,1]\n",
    "# az_ts = matches[:,0]\n",
    "ino_ts = matches[1:,1]  # sth weird with the very first LED match sometimes; the rest look fine.\n",
    "az_ts = matches[1:,0]\n",
    "\n",
    "# Find closest trigger following each arduino led event\n",
    "ino_closest_subsequent_trigger_idx = index_of_nearest_value(\n",
    "    ino_trigger_times/1000 + azure_ir_offset_from_trigger,\n",
    "    ino_ts, \n",
    "    side='subsequent'\n",
    ")\n",
    "\n",
    "# Convert this to absolute trigger number\n",
    "ino_closest_abs_trigger_nums = ino_trigger_nums[ino_closest_subsequent_trigger_idx]\n",
    "\n",
    "# Convert absolute trigger number back into azure frame number / ts\n",
    "az_converted_frs = np.array([np.where((trigger_num_by_frame) == abs_trig_num)[0][0] for abs_trig_num in ino_closest_abs_trigger_nums])\n",
    "az_converted_ts = top_ts_tmp[az_converted_frs]/1e6\n",
    "\n",
    "az_diffs = az_converted_ts - az_ts\n",
    "# plt.plot(np.arange(len(az_converted_ts)), diffs)\n",
    "# plt.xlabel('LED evt num')\n",
    "plt.plot(az_converted_ts, az_diffs)\n",
    "plt.xlabel('Time (sec)')\n",
    "plt.ylabel('Predicted - actual azure time')\n",
    "plt.title('LED-based validation of azure triggers')\n"
   ]
  },
  {
   "cell_type": "code",
   "execution_count": 39,
   "id": "49e9f662",
   "metadata": {},
   "outputs": [
    {
     "data": {
      "text/plain": [
       "array([0.])"
      ]
     },
     "execution_count": 39,
     "metadata": {},
     "output_type": "execute_result"
    }
   ],
   "source": [
    "np.unique(az_diffs)"
   ]
  },
  {
   "cell_type": "code",
   "execution_count": null,
   "id": "2627e025",
   "metadata": {},
   "outputs": [],
   "source": []
  },
  {
   "cell_type": "code",
   "execution_count": null,
   "id": "dca17775",
   "metadata": {},
   "outputs": [],
   "source": []
  },
  {
   "cell_type": "code",
   "execution_count": 43,
   "id": "4e0d2ec7",
   "metadata": {},
   "outputs": [
    {
     "data": {
      "text/plain": [
       "(array([356., 181., 103.,  42.,  52., 132.,  93.,  93.,  44.,  11.]),\n",
       " array([-0.026 , -0.0236, -0.0212, -0.0188, -0.0164, -0.014 , -0.0116,\n",
       "        -0.0092, -0.0068, -0.0044, -0.002 ]),\n",
       " <BarContainer object of 10 artists>)"
      ]
     },
     "execution_count": 43,
     "metadata": {},
     "output_type": "execute_result"
    },
    {
     "data": {
      "image/png": "[encoded data removed]",
      "text/plain": [
       "<Figure size 640x480 with 1 Axes>"
      ]
     },
     "metadata": {},
     "output_type": "display_data"
    }
   ],
   "source": [
    "tmp_diffs = matches[1:,1] - ino_trigger_times[ino_closest_subsequent_trigger_idx]/1000\n",
    "plt.hist(tmp_diffs)  # all neg means leds are switching just before triggers, which is good"
   ]
  },
  {
   "cell_type": "code",
   "execution_count": null,
   "id": "44ed94d4",
   "metadata": {},
   "outputs": [],
   "source": []
  },
  {
   "cell_type": "code",
   "execution_count": null,
   "id": "3c4add53",
   "metadata": {},
   "outputs": [],
   "source": []
  },
  {
   "cell_type": "markdown",
   "id": "663b3a2a",
   "metadata": {},
   "source": [
    "## [DEPRECATED] Do the syncing\n",
    "\n",
    "This is actually unecessary. "
   ]
  },
  {
   "cell_type": "code",
   "execution_count": null,
   "id": "219197bc",
   "metadata": {},
   "outputs": [],
   "source": [
    "\n",
    "# def match_azure_frames(azure_timestamps, frame_length=33333, correction=True):\n",
    "#     # input: timestamps is a list of N arrays, where each array contains the device timestamps from a synced camera\n",
    "#     # return: n x N array of frame indexes for each camera. Only frames captured by all N cameras are included\n",
    "\n",
    "#     # timestamps are in microseconds and should all be (approximate) multiple of 33333 + a fixed offset thats <2ms\n",
    "#     # 1) convert timestamps to integers representing the number of 33333us clock periods\n",
    "#     # 2) create a table where entry (i,j) if the frame number for camera j at clock period i (or -1 if there is no frame)\n",
    "#     # 3) return indexes corresponding to mask rows where (i,j) != -1 for all cameras j\n",
    "\n",
    "#     if correction:\n",
    "#         offset = np.rint(ts[0]/frame_length).astype('int')\n",
    "#         azure_timestamps_nframes = [offset + np.hstack([0, np.cumsum(np.rint(np.diff(ts)/frame_length).astype(int))]) for ts in azure_timestamps]\n",
    "#     else:\n",
    "#         azure_timestamps_nframes = [np.rint(ts/frame_length).astype(int) for ts in azure_timestamps]\n",
    "#     assert all([len(ts1) == len(ts2) for (ts1, ts2) in zip(azure_timestamps, azure_timestamps_nframes)])\n",
    "#     mask = np.ones((np.max(np.hstack(azure_timestamps_nframes))+1,len(azure_timestamps_nframes)))*(-1)\n",
    "#     for j,ts in enumerate(azure_timestamps_nframes): mask[ts,j] = np.arange(len(ts))\n",
    "#     return mask[np.all(mask > -1, axis=1),:].astype(int)\n",
    "\n",
    "\n",
    "\n",
    "\n",
    "# def match_azure_frames_to_trigger_counts(\n",
    "#     top_azure_timestamps, \n",
    "#     ino_trigger_timestamps, \n",
    "#     frame_length=33333, \n",
    "#     correction=True\n",
    "# ):\n",
    "#     \"\"\"\n",
    "#     azure_timestamps: list of top device ts, in usec\n",
    "#     trigger_counts: the trigger column of the arduino data, in msec (doesnt need to be zeroed)\n",
    "    \n",
    "#     Returns: (n matched fr) x (2) array, with matched indices into az + ino ts respectively.\n",
    "#     \"\"\"\n",
    "    \n",
    "#     top_azure_timestamps, ino_trigger_timestamps = npu.castnp(top_azure_timestamps, ino_trigger_timestamps)\n",
    "    \n",
    "#     # Azure starts at t=0 roughly when it receives first trigger.\n",
    "#     # First frame may not be until 7th or 8th trigger, hence find offset.\n",
    "#     # (even though in general doing rint(ts/fr_length) is wrong due to drift, it should be ok for the first few frames!)\n",
    "#     if correction:\n",
    "#         azure_sync_start_offset = 200000  # 200 ms\n",
    "#         offset = np.rint((top_azure_timestamps[0] - azure_sync_start_offset)/frame_length).astype('int')\n",
    "#         azure_timestamps_nframes = offset + np.hstack([0, np.cumsum(np.rint(np.diff(top_azure_timestamps)/frame_length).astype(int))])\n",
    "#     else:\n",
    "#         azure_timestamps_nframes = np.rint(top_azure_timestamps/frame_length).astype(int)\n",
    "#     assert len(azure_timestamps_nframes) == len(top_azure_timestamps)\n",
    "    \n",
    "    \n",
    "#     # Adjust ino trigger timestamps so they count frame nums from first trigger\n",
    "#     ino_trigger_timestamps = ino_trigger_timestamps - ino_trigger_timestamps[0]\n",
    "#     if correction:\n",
    "#         offset = np.rint(ino_trigger_timestamps[0]/frame_length).astype('int')\n",
    "#         ino_trigger_timestamps_nframes = offset + np.hstack([0, np.cumsum(np.rint(np.diff(ino_trigger_timestamps)/(frame_length/1000)).astype(int))])\n",
    "#     else:\n",
    "#         ino_trigger_timestamps_nframes = np.rint(ino_trigger_timestamps/(frame_length/1000)).astype(int)\n",
    "#     assert len(ino_trigger_timestamps_nframes) == len(ino_trigger_timestamps)\n",
    "    \n",
    "#     ls = [azure_timestamps_nframes, ino_trigger_timestamps_nframes]\n",
    "#     mask = -1 * np.ones((np.max(np.hstack(ls)) + 1, len(ls)))\n",
    "#     for j,ts in enumerate(ls): mask[ts,j] = np.arange(len(ts))\n",
    "#     return mask[np.all(mask > -1, axis=1),:].astype(int)"
   ]
  },
  {
   "cell_type": "code",
   "execution_count": 23,
   "id": "f634d1d1",
   "metadata": {},
   "outputs": [],
   "source": [
    "# # Do the syncing!!\n",
    "# matched_trigger_indices = match_azure_frames_to_trigger_counts(\n",
    "#     top_ts_tmp,\n",
    "#     ino_trigger_times\n",
    "# )\n",
    "# matched_trigger_indices  # col 0 is az, col 1 is teensy"
   ]
  },
  {
   "cell_type": "code",
   "execution_count": 24,
   "id": "c4a9e680",
   "metadata": {},
   "outputs": [],
   "source": [
    "# azure_matched_trig_nums = trigger_num_by_frame[matched_trigger_indices[:,0]]\n",
    "# ino_matched_trig_nums = ino_trigger_nums[matched_trigger_indices[:,1]]\n",
    "# assert np.all(azure_matched_trig_nums == ino_matched_trig_nums)"
   ]
  },
  {
   "cell_type": "code",
   "execution_count": 25,
   "id": "6d8a5fd8",
   "metadata": {},
   "outputs": [],
   "source": [
    "# np.all(azure_matched_trig_nums == ino_matched_trig_nums)"
   ]
  }
 ],
 "metadata": {
  "kernelspec": {
   "display_name": "Python 3 (ipykernel)",
   "language": "python",
   "name": "python3"
  },
  "language_info": {
   "codemirror_mode": {
    "name": "ipython",
    "version": 3
   },
   "file_extension": ".py",
   "mimetype": "text/x-python",
   "name": "python",
   "nbconvert_exporter": "python",
   "pygments_lexer": "ipython3",
   "version": "3.9.15"
  },
  "toc": {
   "base_numbering": 1,
   "nav_menu": {},
   "number_sections": false,
   "sideBar": true,
   "skip_h1_title": false,
   "title_cell": "Table of Contents",
   "title_sidebar": "Contents",
   "toc_cell": true,
   "toc_position": {},
   "toc_section_display": true,
   "toc_window_display": false
  }
 },
 "nbformat": 4,
 "nbformat_minor": 5
}
